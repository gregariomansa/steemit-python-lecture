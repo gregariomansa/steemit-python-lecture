{
 "cells": [
  {
   "cell_type": "markdown",
   "metadata": {},
   "source": [
    "- 비교연산자(Comparison operator)\n",
    "- 조건문\n",
    "    - if문\n",
    "    - if-else문\n",
    "    - if-else if문\n",
    "- 마무리"
   ]
  },
  {
   "cell_type": "markdown",
   "metadata": {},
   "source": [
    "<center>\n",
    "<img src=\"http://www.sanghun.xyz/images/python_rectangle.jpg\">\n",
    "</center>\n",
    "\n",
    " 안녕하세요 **Kaang**입니다. \n",
    " 안녕하세요. 프로그램은 항상 동일하게 실행되는건 아닙니다. 상황에 따라 다르게 실행되는데요, 이를 제어문을 통해 제어합니다. 제어문에는 조건문과 반복문이 있습니다. 이번 글에선 조건문을 학습 해보겠습니다. 저번 글과 마찬가지로 Jupyter를 이용해 학습을 진행하겠습니다. 이 글에 사용된 코드를 작성한 [Jupyter notebook]()을 이미 github에 업로드 해두었습니다. 따라하시면서 학습해 주세요."
   ]
  },
  {
   "cell_type": "markdown",
   "metadata": {},
   "source": [
    "# 비교연산자\n",
    "\n",
    "조건문을 공부하기 전에 비교연산자를 학습해야 합니다. 쉬워요.\n",
    "\n",
    "| 비교연산자|설명|\n",
    "|:-:|:-:|\n",
    "|a>b|a가 b보다 크다(초과))|\n",
    "|a>=b|a가 b보다 크거나 같다(이상)|\n",
    "|a<b|a가 b보다 작다(미만)|\n",
    "|a<=b|a가 b보다 작다(이하)|\n",
    "|a==b|a와 b가 같다|\n",
    "|a!=b|a와 b가 같지 않다.|"
   ]
  },
  {
   "cell_type": "code",
   "execution_count": null,
   "metadata": {
    "collapsed": false
   },
   "outputs": [],
   "source": [
    "a = 2\n",
    "b = 1\n",
    "\n",
    "print(a>b)  #True\n",
    "print(a>=b) #True\n",
    "print(a<b)  #False\n",
    "print(a<=b) #False\n",
    "print(a==b) #False\n",
    "print(a!=b) #True"
   ]
  },
  {
   "cell_type": "markdown",
   "metadata": {},
   "source": [
    "이런식으로 a와 b에 값을 대입한 후 비교를 할 수도 있지만 input()함수를 이용하여 사용자로부터 직접 값을 입력받을수도 있습니다."
   ]
  },
  {
   "cell_type": "code",
   "execution_count": null,
   "metadata": {
    "collapsed": false
   },
   "outputs": [],
   "source": [
    "a = input()\n",
    "print(a)"
   ]
  },
  {
   "cell_type": "markdown",
   "metadata": {},
   "source": [
    "input함수에 입력 메세지를 주고 싶다면 아래처럼 하면 됩니다."
   ]
  },
  {
   "cell_type": "code",
   "execution_count": null,
   "metadata": {
    "collapsed": false
   },
   "outputs": [],
   "source": [
    "a = input(\"a를 입력하세요:\")\n",
    "print(a)"
   ]
  },
  {
   "cell_type": "markdown",
   "metadata": {},
   "source": [
    "위의 예제를 입력값을 통해 다시 작성해 봅시다."
   ]
  },
  {
   "cell_type": "code",
   "execution_count": null,
   "metadata": {
    "collapsed": false
   },
   "outputs": [],
   "source": [
    "a = input(\"a를 입력하세요:\")\n",
    "b = input(\"b를 입력하세요:\")\n",
    "\n",
    "print(a>b)\n",
    "print(a>=b)\n",
    "print(a<b)\n",
    "print(a<=b)\n",
    "print(a==b)\n",
    "print(a!=b)"
   ]
  },
  {
   "cell_type": "markdown",
   "metadata": {},
   "source": [
    "# 조건문\n",
    "\n",
    "ATM기에서 돈을 출금하는 상황을 생각해봅시다. 돈을 출금하려 했을때, 잔고를 초과하는 금액은 출금할 수 없습니다. 오직 잔고 이하의 금액만 출금할 수 있다. `'잔고'와 '출금액'의 비교`를 통해 `출금``이라는 행위가 결정됩니다.\n",
    "\n",
    "우리가 사용하는 ATM기도 조건문으로 프로그래밍 되어있습니다. 간단한 ATM기 프로그래밍을 해보겠습니다.\n",
    "\n",
    "## if문\n",
    "\n",
    "if문의 기본 문법은 아래와 같습니다. 조건이 참(True)면 명령어가 실행되는 구조입니다.\n",
    "```python\n",
    "if 조건:\n",
    "  명령어\n",
    "```\n",
    "if문의 문법에서 주의해야할 사항은 두가지가 있습니다.\n",
    "\n",
    "1. 조건 뒤에 콜론(:)을 무조건 적어줘야 합니다.\n",
    "2. if문을 작성한 뒤 아래의 `명령어` 부분은 들여쓰기 해야 합니다. 들여쓰기는 주로 `Tab`키를 사용하거나 `space` 4번을 사용합니다. 이 들여쓰기 부분을 정확하게 맞춰야 에러 없이 코드가 실행됩니다.\n",
    "\n",
    "잔고(balance)가 10000원이고 출금하고자 하는 금액(withdrawl)이 2000원이라고 해봅시다."
   ]
  },
  {
   "cell_type": "code",
   "execution_count": null,
   "metadata": {
    "collapsed": false
   },
   "outputs": [],
   "source": [
    "balance = 10000  # 잔고 10000원\n",
    "#withdrawl = input(\"출금액을 입력하세요:\") 를 사용한다면 에러가 발생합니다. \n",
    "#input()함수를 다시 int()함수로 감싸서 형변환 해줘야 합니다.\n",
    "withdrawl = int(input(\"출금액을 입력하세요:\")) # 출금액 2000원 입력\n",
    "\n",
    "if balance >= withdrawl:  #조건 1\n",
    "    print(str(withdrawl)+\"원을 출금합니다.\")\n",
    "    balance = balance - withdrawl #출금액만큼 잔고에서 빼주기\n",
    "    #들여쓰기가 끝났습니다. 이 이후부터는 if문 밖입니다.\n",
    "\n",
    "print(\"잔고: \" + str(balance))"
   ]
  },
  {
   "cell_type": "markdown",
   "metadata": {},
   "source": [
    "> 1.input()은 모든 입력을 str형태로 받습니다. 그렇기에 if절에서 balance(정수형 데이터)와 withdrawl(문자열 데이터)의 비교를 위해 withdrawl을 int()함수를 통해 정수로 형변환 해 줍니다.\n",
    "\n",
    "> 2.print함수 내에서 withdrawl을 str()로 감싼건 다시 한번 형변환을 위해서입니다. withdrawl은 정수(int)이므로 뒷 부분의 '을 출금합니다.'와의 문자열 접합(+)을 위해 str()함수를 통해 문자열(string)로 형변환 해주었습니다.\n",
    "\n",
    "`2000원을 출금합니다.`라는 문장이 출력됨을 확인할 수 있습니다. 위 문장을 해석해보겠습니다. 먼저 if뒤의 조건을 확인합니다. `balance >= withdrawl` 이 조건이 참이면 아래 문장이 실행되고 거짓이면 실행되지 않습니다. 10000 >= 2000, 즉 10000은 2000보다 크니까 아래 문장은 실행됩니다. 그럼 만약 잔고보다 큰 금액을 출금하려고 한다면 어떻게 될까요? 출금액으로 잔고보다 큰 20000원을 입력해 봅시다."
   ]
  },
  {
   "cell_type": "code",
   "execution_count": null,
   "metadata": {
    "collapsed": false
   },
   "outputs": [],
   "source": [
    "balance = 10000  # 잔고 10000원\n",
    "withdrawl = int(input(\"출금액을 입력하세요:\")) # 출금액 20000원 입력\n",
    "\n",
    "if balance >= withdrawl:\n",
    "    print(str(withdrawl)+\"원을 출금합니다.\")\n",
    "    balance = balance - withdrawl #출금액만큼 잔고에서 빼주기\n",
    "    #들여쓰기가 끝났습니다. 이 이후부터는 if문 밖입니다.\n",
    "\n",
    "print(\"잔고: \" + str(balance))"
   ]
  },
  {
   "cell_type": "markdown",
   "metadata": {},
   "source": [
    "이 코드를 실행한다면 \"~원을 출금합니다.\" 출력을 볼 수 없습니다. balance >= withdrawl의 결과가 False이기에 아래의 print문이 실행 되지 않는거죠. 그렇다면 if문이 실행되지 않을 때도 뭔가를 출력해서 사용자에게 정확한 상황을 알려 주면 어떨까요?\n",
    "\n",
    "## if-else문\n",
    "\n",
    "단일 if문은 조건이 참인 경우만을 커버합니다. 조건이 거짓일때도 실행하고자 하는 문장이 있을 경우 if-else문을 사용합니다.\n",
    "\n",
    "```python\n",
    "if 조건:\n",
    "  명령어 # 조건이 참일때 실행\n",
    "else:\n",
    "  명령어 # 조건이 거짓일때 실행\n",
    "```\n",
    "\n",
    "if문과 마찬가지로 else뒤에 콜론(:)을 붙여줘야 하고 명령어 부분은 들여쓰기를 해줘야 합니다."
   ]
  },
  {
   "cell_type": "code",
   "execution_count": null,
   "metadata": {
    "collapsed": false
   },
   "outputs": [],
   "source": [
    "balance = 10000  # 잔고 10000원\n",
    "withdrawl = int(input(\"출금액을 입력하세요:\")) # 입력한 금액에 따라 결과가 달라짐\n",
    "\n",
    "if balance >= withdrawl:\n",
    "    print(str(withdrawl)+\"을 출금합니다.\")\n",
    "    balance = balance - withdrawl\n",
    "else:\n",
    "    print(\"잔고가 부족합니다.\")\n",
    "\n",
    "print(\"잔고: \" + str(balance))"
   ]
  },
  {
   "cell_type": "markdown",
   "metadata": {},
   "source": [
    "입력한 금액에 따라 결과가 달라짐을 확인할 수 있습니다. 10000원 이상 금액을 입력하면 if부분이 실행되고 10000원 미만 금액을 입력한다면 else부분이 실행됩니다.\n",
    "\n",
    "## if-else if문\n",
    "\n",
    "여러가지 조건을 사용하고 싶을때 사용하는 구문입니다.\n",
    "\n",
    "```python\n",
    "if 조건1:\n",
    "  명령어 # 조건1이 참일때 실행\n",
    "elif 조건2:\n",
    "  명령어 # 조건1이 거짓이고 조건2가 참일때\n",
    "else:\n",
    "  명령어 # 모든 조건이 거짓일때 실행\n",
    "```\n",
    "\n",
    "elif는 else if의 줄임말입니다. else부분은 필요 없다면 작성하지 않아도 됩니다.(생략 가능합니다.)"
   ]
  },
  {
   "cell_type": "code",
   "execution_count": null,
   "metadata": {
    "collapsed": false
   },
   "outputs": [],
   "source": [
    "balance = 10000  # 잔고 10000원\n",
    "withdrawl = int(input(\"출금액을 입력하세요:\")) # 입력한 금액에 따라 결과가 달라짐\n",
    "\n",
    "if balance > withdrawl:\n",
    "    print(str(withdrawl)+\"원 을 출금합니다.\")\n",
    "    balance = balance - withdrawl\n",
    "elif balance == withdrawl:\n",
    "    print(\"전액 출금합니다.\")\n",
    "    balance = balance - withdrawl\n",
    "else:\n",
    "    print(\"잔고가 부족합니다.\")\n",
    "\n",
    "print(\"잔고: \" + str(balance))"
   ]
  },
  {
   "cell_type": "markdown",
   "metadata": {},
   "source": [
    "조건 2를 추가하면서 조건 1을 >=(이상)에서 >(초과)로 수정했습니다.\n",
    "입력값이 10000보다 작을 경우 if절이, 10000일 경우 elif절이, 10000보다 클 경우 else절이 실행되는걸 확인할 수 있습니다. 원하는 만큼 조건을 추가 할 수 있습니다. 원하는 만큼 elif절을 추가 할 수 있단 뜻이죠."
   ]
  },
  {
   "cell_type": "code",
   "execution_count": null,
   "metadata": {
    "collapsed": false
   },
   "outputs": [],
   "source": [
    "balance = 10000  # 잔고 10000원\n",
    "withdrawl = int(input(\"출금액을 입력하세요:\")) # 입력한 금액에 따라 결과가 달라짐\n",
    "\n",
    "if balance > withdrawl:     # 조건 1\n",
    "    print(str(withdrawl)+\"원 을 출금합니다.\")\n",
    "    balance = balance - withdrawl\n",
    "elif balance == withdrawl:  # 조건 2\n",
    "    print(\"전액 출금합니다.\")\n",
    "    balance = balance - withdrawl\n",
    "elif 0 == withdrawl:        # 조건 3\n",
    "    print(\"0원을 출금할 수 없습니다.\")\n",
    "else:\n",
    "    print(\"잔고가 부족합니다.\")\n",
    "\n",
    "print(\"잔고: \" + str(balance))"
   ]
  },
  {
   "cell_type": "markdown",
   "metadata": {},
   "source": [
    "0을 입력하면 \"0원을 출금할 수 없습니다.\"가 출력되겠죠? 그러나 예상과는 달리 \"0원을 출금합니다.\"라는 문장이 출력됩니다. if문은 위에서부터 순서대로 실행됩니다. 만약 위쪽의 조건에 해당된다면 아래의 elif나 else는 무시되는 구조이죠. 예시를 들어 보겠습니다."
   ]
  },
  {
   "cell_type": "code",
   "execution_count": null,
   "metadata": {
    "collapsed": false
   },
   "outputs": [],
   "source": [
    "a=100\n",
    "\n",
    "if a>1:\n",
    "  print('조건 1 참')  # 출력됨\n",
    "elif a>2:\n",
    "  print('조건 2 참')  # 무시됨"
   ]
  },
  {
   "cell_type": "markdown",
   "metadata": {},
   "source": [
    "예시를 간단히 하기 위해 else문은 생략했습니다. a는 100이므로 조건1(a>100)과 조건2(a>2) 둘 다 참입니다. 이 경우 둘 다 실행되는 것이 아니라 가장 위에 있는 참인 조건에 해당하는 부분만 실행이 됩니다. 위의 ATM예시를 보자면, 출금액이 0이라서 `조건3`이 참이긴 하지만 더 위쪽의 `조건1`이 참이라 이 부분이 실행되고 나머지 부분은 무시되는 것이죠. 그렇기에\n",
    "\n",
    "1. 조건을 설정할땐 조건들의 실행 순서를 고려해야 합니다.\n",
    "2. 또는 조건들끼리 겹치는 부분이 없도록 배타적으로 설정하는겁니다. 조건 1~3이 주어진다면 단 하나만 참이 되도록 말이죠.\n",
    "\n",
    "\n",
    "조건 순서를 다시 고려하며 겹치지 않도록 코드를 짜 보겠습니다."
   ]
  },
  {
   "cell_type": "code",
   "execution_count": null,
   "metadata": {
    "collapsed": false
   },
   "outputs": [],
   "source": [
    "balance = 10000  # 잔고 10000원\n",
    "withdrawl = int(input(\"출금액을 입력하세요:\")) # 입력한 금액에 따라 결과가 달라짐\n",
    "\n",
    "if 0 > withdrawl:  #0보다 작은 경우\n",
    "    print(\"0원보다 큰 금액만 입력 가능합니다.\")\n",
    "elif 0 == withdrawl:  #0인 경우\n",
    "    print(\"0원을 출금할 수 없습니다.\")\n",
    "elif balance > withdrawl:  #0보다 큰 경우\n",
    "    print(str(withdrawl)+\"원을 출금합니다.\")\n",
    "    balance = balance - withdrawl\n",
    "elif balance == withdrawl:\n",
    "    print(\"전액 출금합니다.\")\n",
    "    balance = balance - withdrawl\n",
    "else:\n",
    "    print(\"잔고가 부족합니다.\")\n",
    "\n",
    "print(\"잔고: \" + str(balance))"
   ]
  },
  {
   "cell_type": "markdown",
   "metadata": {},
   "source": [
    "입력값이 \n",
    "- 0보다 작은 경우\n",
    "- 0인 경우\n",
    "- 0보다 큰경우\n",
    "로 겹치는 경우가 없도록 코드를 작성했습니다.\n",
    "\n",
    "## 중첩 if문\n",
    "\n",
    "if문 내부에 또 if문을 작성할 수 있습니다. 출금이 일어나는 경우에 비밀번호를 물어보는 코드를 추가해 보겠습니다. 비밀번호는 1111이라고 가정하겠습니다."
   ]
  },
  {
   "cell_type": "code",
   "execution_count": null,
   "metadata": {
    "collapsed": false
   },
   "outputs": [],
   "source": [
    "balance = 10000  # 잔고 10000원\n",
    "withdrawl = int(input(\"출금액을 입력하세요:\")) # 입력한 금액에 따라 결과가 달라짐\n",
    "\n",
    "#if문 시작\n",
    "if 0 > withdrawl:  #조건 1\n",
    "    print(\"0원보다 큰 금액만 입력 가능합니다.\")\n",
    "elif 0 == withdrawl:  #조건 2\n",
    "    print(\"0원을 출금할 수 없습니다.\")\n",
    "elif balance >= withdrawl: #조건 3\n",
    "    password = input(\"비밀번호를 입력하세요:\")\n",
    "    # 중첩 if문 시작\n",
    "    if password == \"1111\": #1111이 아니라 \"1111\"과 비교\n",
    "        print(str(withdrawl)+\"원을 출금합니다.\")\n",
    "        balance = balance - withdrawl\n",
    "    else:\n",
    "        print(\"비밀번호가 일치하지 않습니다.\")\n",
    "    # 중첩 if문 끝\n",
    "else:\n",
    "    print(\"잔고가 부족합니다.\")\n",
    "#if문 끝\n",
    "\n",
    "print(\"잔고: \" + str(balance))"
   ]
  },
  {
   "cell_type": "markdown",
   "metadata": {},
   "source": [
    "```\n",
    "비밀번호를 맞게 입력했을 경우:\n",
    "    출금액을 입력하세요:1000\n",
    "    비밀번호를 입력하세요:1111\n",
    "    1000원을 출금합니다.\n",
    "    잔고: 9000\n",
    "    \n",
    "비밀번호를 틀리게 입력했을 경우:\n",
    "    출금액을 입력하세요:1000\n",
    "    비밀번호를 입력하세요:2222\n",
    "    비밀번호가 일치하지 않습니다.\n",
    "    잔고: 10000\n",
    "```\n",
    "\n",
    "`조건 3`내부에 비밀번호를 체크하는 if-else문이 삽입된 형태입니다. 비밀번호를 입력받을떄 input()함수가 키보드입력을 문자열로 읽어들이기에 password를 비교할때 1111(정수형)이 아닌 \"1111\"(문자열)과 비교를 진행해야 합니다.\n",
    "\n",
    "# 마무리\n",
    "어떠셨나요? 조건문과 비교연산자를 학습했습니다. 그리고 사용자로부터 입력을 받는 input()함수도 학습했군요. 이정도만 해도 어느정도 형태를 갖춘 프로그램을 만들수 있습니다. 다음 글에선 또다른 제어문인 반복문에 대해 알아보겠습니다. 이해가 안가거나 궁금하신 부분 있으면 언제든 댓글남겨주세요. 다음 글로 찾아뵙겠습니다. 감사합니다!"
   ]
  }
 ],
 "metadata": {
  "kernelspec": {
   "display_name": "Python 3",
   "language": "python",
   "name": "python3"
  },
  "language_info": {
   "codemirror_mode": {
    "name": "ipython",
    "version": 3
   },
   "file_extension": ".py",
   "mimetype": "text/x-python",
   "name": "python",
   "nbconvert_exporter": "python",
   "pygments_lexer": "ipython3",
   "version": "3.5.2"
  }
 },
 "nbformat": 4,
 "nbformat_minor": 1
}
