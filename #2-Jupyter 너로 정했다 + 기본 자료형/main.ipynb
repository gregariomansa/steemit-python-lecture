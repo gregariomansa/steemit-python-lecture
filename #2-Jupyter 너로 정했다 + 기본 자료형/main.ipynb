{
 "cells": [
  {
   "cell_type": "markdown",
   "metadata": {},
   "source": [
    "## 변수(variable)"
   ]
  },
  {
   "cell_type": "markdown",
   "metadata": {},
   "source": [
    "변수란 값을 담는 그릇입니다. \n",
    "'변수명' = '변수에 저장할 값'의 형태로 사용할 수 있습니다.\n",
    "예를들어 x란 이름을 가지는 변수에 2의 값을 저장하고 싶으면 아래와 같이 하면 됩니다."
   ]
  },
  {
   "cell_type": "code",
   "execution_count": null,
   "metadata": {
    "collapsed": true
   },
   "outputs": [],
   "source": [
    "x = 2"
   ]
  },
  {
   "cell_type": "markdown",
   "metadata": {},
   "source": [
    "x에 2라는 값이 잘 저장되었는지 x를 출력해서 알아보겠습니다."
   ]
  },
  {
   "cell_type": "code",
   "execution_count": null,
   "metadata": {
    "collapsed": false
   },
   "outputs": [],
   "source": [
    "print(x)"
   ]
  },
  {
   "cell_type": "markdown",
   "metadata": {},
   "source": [
    "x를 출력했더니 2라는 값이 확인할 수 있습니다."
   ]
  },
  {
   "cell_type": "markdown",
   "metadata": {},
   "source": [
    "변수는 언제든지 변경 가능 합니다. x에 다시 10을 저장하고 출력해 봅시다."
   ]
  },
  {
   "cell_type": "code",
   "execution_count": null,
   "metadata": {
    "collapsed": false
   },
   "outputs": [],
   "source": [
    "x=10\n",
    "print(x)"
   ]
  },
  {
   "cell_type": "markdown",
   "metadata": {},
   "source": [
    "## 주석(comment)"
   ]
  },
  {
   "cell_type": "markdown",
   "metadata": {},
   "source": [
    "**주석은 코드에서 무시되는 부분입니다.** 코드가 길어지고 복잡해지면 타인이 작성한 코드를 이해하기 힘듭니다. 심지어 본인이 작성한 코드라도 몇달이 지나면 기억이 가물가물해지기도 하죠. 주석은 코드를 더 쉽게 이해할 수 있도록 설명을 작성할 때 사용됩니다. 파이썬에선 #기호를 주석에 사용합니다. #이후에 작성된 코드는 무시됩니다"
   ]
  },
  {
   "cell_type": "code",
   "execution_count": null,
   "metadata": {
    "collapsed": false
   },
   "outputs": [],
   "source": [
    "x = 2 # x에 2 저장\n",
    "print(x) # 2 출력\n",
    "print(x+1) # x+1 출력, 2+1=3이므로 3 출력\n",
    "#print(x+2) 전체 줄이 주석처리되어있으므로 무시됨\n",
    "print(x+3) # x+3 출력, 2+3=5이므로 5 출력"
   ]
  },
  {
   "cell_type": "markdown",
   "metadata": {},
   "source": [
    " - #은 한줄에만 적용됩니다. 한 줄이 아닌 여러 줄을 주석처리하고 싶으면 '''(따옴표 세개)로 무시하고 싶은 부분을 감싸주면 됩니다."
   ]
  },
  {
   "cell_type": "code",
   "execution_count": null,
   "metadata": {
    "collapsed": false
   },
   "outputs": [],
   "source": [
    "print(1)\n",
    "print(2)\n",
    "'''\n",
    "print(3)\n",
    "print(4)\n",
    "print(5)\n",
    "'''\n",
    "print(6)\n",
    "print(7)"
   ]
  },
  {
   "cell_type": "markdown",
   "metadata": {},
   "source": [
    "이 강좌에서는 코드내에서 설명이 필요할 때 주석을 사용하도록 하겠습니다."
   ]
  },
  {
   "cell_type": "markdown",
   "metadata": {},
   "source": [
    "## 자료형(data type)"
   ]
  },
  {
   "cell_type": "markdown",
   "metadata": {},
   "source": [
    "### 숫자(number)"
   ]
  },
  {
   "cell_type": "markdown",
   "metadata": {},
   "source": [
    "#### 정수(integer)"
   ]
  },
  {
   "cell_type": "markdown",
   "metadata": {},
   "source": [
    "정수는 '양의 정수', '음의 정수', '0'으로 이루어져 있습니다. 간단하게 이해하자면 소수점이 없는 수라고 보셔도 무방합니다. 1,2,100, 0, -1, -20 등 이런게 정수입니다. 한번 정수를 출력해 보겠습니다."
   ]
  },
  {
   "cell_type": "code",
   "execution_count": null,
   "metadata": {
    "collapsed": false
   },
   "outputs": [],
   "source": [
    "print(1)\n",
    "print(2)\n",
    "print(100)\n",
    "print(0)\n",
    "print(-1)\n",
    "print(-20)"
   ]
  },
  {
   "cell_type": "markdown",
   "metadata": {},
   "source": [
    "type()이란 명령어가 있습니다. 이 명령어 안에 값을 넣으면 그 값의 자료형(data type)을 알려줍니다."
   ]
  },
  {
   "cell_type": "code",
   "execution_count": null,
   "metadata": {
    "collapsed": false
   },
   "outputs": [],
   "source": [
    "type(1)"
   ]
  },
  {
   "cell_type": "markdown",
   "metadata": {},
   "source": [
    "int는 정수를 의미하는 integer의 약자입니다. type()안에 0을 넣어도, -1을 넣어도 'int'가 출력되는걸 확인할 수 있습니다."
   ]
  },
  {
   "cell_type": "code",
   "execution_count": null,
   "metadata": {
    "collapsed": false
   },
   "outputs": [],
   "source": [
    "x = 3\n",
    "print(type(x)) # 출력 \"<class 'int'>\"\n",
    "print(x)       # 출력 \"3\"\n",
    "print(x + 1)   # 덧셈; 출력 \"4\"\n",
    "print(x - 1)   # 뺄셈; 출력 \"2\"\n",
    "print(x * 2)   # 곱셈; 출력 \"6\", *는 곱셈 연산자입니다. 프로그래밍에선 x기호 대신 * 기호를 사용합니다.\n",
    "print(x ** 2)  # 제곱; 출력 \"9\", **는 제곱 연산자입니다."
   ]
  },
  {
   "cell_type": "markdown",
   "metadata": {},
   "source": [
    "여기서 다시 x를 출력하면 어떤 값이 나올까요?"
   ]
  },
  {
   "cell_type": "code",
   "execution_count": null,
   "metadata": {
    "collapsed": false
   },
   "outputs": [],
   "source": [
    "print(x)"
   ]
  },
  {
   "cell_type": "markdown",
   "metadata": {},
   "source": [
    "x+1, x-1, x*2, x**2인 값을 출력했을 뿐 x 값 자체는 변경시키지 않았기에 x값은 그대로 3입니다."
   ]
  },
  {
   "cell_type": "markdown",
   "metadata": {},
   "source": [
    "x에 1을 더한 값을 다시 x에 저장하려면 아래처럼 다시 변수에 값을 할당 하면 됩니다."
   ]
  },
  {
   "cell_type": "code",
   "execution_count": null,
   "metadata": {
    "collapsed": false
   },
   "outputs": [],
   "source": [
    "x = x +1\n",
    "print(x)"
   ]
  },
  {
   "cell_type": "markdown",
   "metadata": {},
   "source": [
    "`x = x +1`는 x에 1을 더한 후 그 값을 다시 x에 대입하란 뜻입니다. 이 과정을 줄인 축약연산자가 존재합니다."
   ]
  },
  {
   "cell_type": "code",
   "execution_count": null,
   "metadata": {
    "collapsed": false
   },
   "outputs": [],
   "source": [
    "x = 3    # x에 3 대입\n",
    "x += 1   # x = x + 1 과 동일\n",
    "print(x) # 4 출력\n",
    "x -= 1   # x = x - 1 과 동일\n",
    "print(x) # 3 출력\n",
    "x *= 2   # x = x * 2 과 동일\n",
    "print(x) # 6 출력"
   ]
  },
  {
   "cell_type": "markdown",
   "metadata": {},
   "source": [
    "변수를 추가로 할당하여 변수간 연산도 가능합니다."
   ]
  },
  {
   "cell_type": "code",
   "execution_count": null,
   "metadata": {
    "collapsed": false
   },
   "outputs": [],
   "source": [
    "x=3\n",
    "y=2\n",
    "print(x+y)   # 덧셈, \"8\" 출력\n",
    "print(x-y)   # 뺼셈, \"1\" 출력\n",
    "print(x*y)   # 곱셈, \"6\" 출력\n",
    "print(x**y)  # 거듭제곱, \"9\" 출력\n",
    "print(x/y)   # 나눗셈, \"1.5\" 출력\n",
    "print(x%y)   # 나눗셈 나머지, \"1\" 출력"
   ]
  },
  {
   "cell_type": "markdown",
   "metadata": {},
   "source": [
    "#### 실수(float)\n",
    "프로그래밍에서의 실수는 소수점 이하의 값이 있는 수를 의미합니다. 정수와 동일한 연산들이 가능합니다."
   ]
  },
  {
   "cell_type": "code",
   "execution_count": null,
   "metadata": {
    "collapsed": false
   },
   "outputs": [],
   "source": [
    "y = 2.5\n",
    "print(type(y)) # 출력 \"<class 'float'>\"\n",
    "print(y, y + 1, y * 2, y ** 2) # 출력 \"2.5 3.5 5.0 6.25\""
   ]
  },
  {
   "cell_type": "markdown",
   "metadata": {},
   "source": [
    "#### 문자열(string)\n",
    "파이썬은 문자열을 다루기 쉬운 프로그래밍 언어입니다."
   ]
  },
  {
   "cell_type": "code",
   "execution_count": null,
   "metadata": {
    "collapsed": false
   },
   "outputs": [],
   "source": [
    "x = 'hello'    # 문자열을 표현할 땐 따옴표나\n",
    "y = \"world\"    # 쌍따옴표가 사용됩니다; 어떤걸 써도 상관없습니다.\n",
    "print(x)       # hello\n",
    "print(y)       # world\n",
    "print(type(x)) # <class 'str'>; str은 string을 의미합니다.\n",
    "print(len(x))  # len()은 문자열의 길이(length)를 반환하는 함수입니다.\n",
    "               # hello는 5글자니까 5를 반환합니다.\n",
    "hw = x + y     # 문자열간의 + 연산은 문자열을 연결하는 겁니다.\n",
    "               # 이를 문자열 접합(concatenation)이라고 합니다.\n",
    "print(hw)      # helloworld\n",
    "hw2 = x + \" \" + y\n",
    "print(hw2)     # 중간에 공백도 함께 접합"
   ]
  },
  {
   "cell_type": "markdown",
   "metadata": {},
   "source": [
    "## 자료형간 형변환\n",
    "자료형간 형변환이 가능한 경우가 있습니다."
   ]
  },
  {
   "cell_type": "code",
   "execution_count": null,
   "metadata": {
    "collapsed": false
   },
   "outputs": [],
   "source": [
    "x=1              # x에 1 할당. 1은 정수\n",
    "print(x)         # 1\n",
    "print(type(x))   # <class 'int'>\n",
    "\n",
    "x = float(x)     # float(): 실수 자료형으로 형변환\n",
    "print(x)         # 1.0\n",
    "print(type(x))   # <class 'float'>\n",
    "\n",
    "x = int(x)       # int(): 정수 자료형으로 형변환\n",
    "print(x)         # 1\n",
    "print(type(x))   # <class 'int'>\n",
    "\n",
    "x = str(x)       # str(): 문자열 자료형으로 형변환\n",
    "print(x)         # 1\n",
    "print(type(x))   # <class 'str'>"
   ]
  },
  {
   "cell_type": "markdown",
   "metadata": {},
   "source": [
    "제일 마지막 부분의 1은 정수형인지 실수형인지 출력만 해선 구분이 가지 않죠? 그럴땐 type()으로 확인하면 됩니다. 그런데 왜 이런게 필요할까요? 예시를 들어 설명하겠습니다."
   ]
  },
  {
   "cell_type": "code",
   "execution_count": null,
   "metadata": {
    "collapsed": false
   },
   "outputs": [],
   "source": [
    "x = 10000\n",
    "print(\"잔고: \" + x)  # TypeError: Can't convert 'int' object to str implicitly"
   ]
  },
  {
   "cell_type": "markdown",
   "metadata": {},
   "source": [
    "위 코드를 실행하면 에러가 납니다. 문자열(\"잔고: \")과 정수(10000)을 더하려(+) 했기 때문이죠. 동일한 자료형으로 맞춰주면 에러가 나지 않습니다."
   ]
  },
  {
   "cell_type": "code",
   "execution_count": null,
   "metadata": {
    "collapsed": false
   },
   "outputs": [],
   "source": [
    "x = 10000\n",
    "x = str(x)\n",
    "print(\"잔고: \" + x)  # 잔고: 10000"
   ]
  },
  {
   "cell_type": "markdown",
   "metadata": {},
   "source": [
    "print함수 내부에서 바로 형변환 함수를 사용할수도 있습니다."
   ]
  },
  {
   "cell_type": "code",
   "execution_count": null,
   "metadata": {
    "collapsed": false
   },
   "outputs": [],
   "source": [
    "x = 10000\n",
    "print(\"잔고: \" + str(x))  # 잔고: 10000"
   ]
  }
 ],
 "metadata": {
  "kernelspec": {
   "display_name": "Python 3",
   "language": "python",
   "name": "python3"
  },
  "language_info": {
   "codemirror_mode": {
    "name": "ipython",
    "version": 3
   },
   "file_extension": ".py",
   "mimetype": "text/x-python",
   "name": "python",
   "nbconvert_exporter": "python",
   "pygments_lexer": "ipython3",
   "version": "3.5.2"
  }
 },
 "nbformat": 4,
 "nbformat_minor": 1
}
